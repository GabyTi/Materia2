{
 "cells": [
  {
   "cell_type": "code",
   "execution_count": 1,
   "metadata": {},
   "outputs": [],
   "source": [
    "from bs4 import BeautifulSoup\n",
    "import requests\n",
    "import pandas as pd"
   ]
  },
  {
   "cell_type": "code",
   "execution_count": 2,
   "metadata": {},
   "outputs": [],
   "source": [
    "url = 'https://lat.motorsport.com/f1/results/2022/gp-de-gran-bretana-538894/'\n",
    "page = requests.get(url)\n",
    "soup = BeautifulSoup(page.content, 'html.parser')"
   ]
  },
  {
   "cell_type": "code",
   "execution_count": 8,
   "metadata": {},
   "outputs": [
    {
     "name": "stdout",
     "output_type": "stream",
     "text": [
      "['Carlos Sainz', 'Sergio Pérez', 'Lewis Hamilton', 'Charles Leclerc', 'Fernando Alonso', 'Lando Norris', 'Max Verstappen', 'Mick Schumacher', 'Sebastian Vettel', 'Kevin Magnussen', 'Lance Stroll', 'Nicholas Latifi', 'Daniel Ricciardo', 'Yuki Tsunoda', 'Esteban Ocon', 'Pierre Gasly', 'Valtteri Bottas', 'George Russell', 'Guanyu Zhou', 'Alexander Albon']\n"
     ]
    }
   ],
   "source": [
    "Piloto = soup.find_all('span', class_ = 'name')\n",
    "#print (Piloto)\n",
    "nombres = list()\n",
    "for i in Piloto:\n",
    "          nombres.append(i.text)\n",
    "print (nombres)"
   ]
  },
  {
   "cell_type": "code",
   "execution_count": 26,
   "metadata": {},
   "outputs": [
    {
     "name": "stdout",
     "output_type": "stream",
     "text": [
      "['1', '', '55', 'Ferrari', 'Ferrari', '52', \"\\n                    2:17'50.311                \", '\\n', '\\n', '133.285', '3', '', '25', '2', '', '11', 'Red Bull', 'Red Bull', '52', \"\\n                    2:17'54.090                \"] 20\n"
     ]
    }
   ],
   "source": [
    "Vueltas = soup.find_all('span', class_ = 'ms-table_row-value')\n",
    "#print (Vueltas)\n",
    "\n",
    "vueltas = list()\n",
    "count = 0\n",
    "\n",
    "for i in Vueltas:\n",
    "          if count < 20:\n",
    "                    vueltas.append(i.text)\n",
    "          else:\n",
    "                    break\n",
    "          count += 1\n",
    "          \n",
    "print (vueltas, len(vueltas))"
   ]
  },
  {
   "cell_type": "code",
   "execution_count": 27,
   "metadata": {},
   "outputs": [
    {
     "name": "stdout",
     "output_type": "stream",
     "text": [
      "              NOmbre                                            Vueltas\n",
      "1       Carlos Sainz                                                  1\n",
      "2       Sergio Pérez                                                   \n",
      "3     Lewis Hamilton                                                 55\n",
      "4    Charles Leclerc                                            Ferrari\n",
      "5    Fernando Alonso                                            Ferrari\n",
      "6       Lando Norris                                                 52\n",
      "7     Max Verstappen  \\n                    2:17'50.311                \n",
      "8    Mick Schumacher                                                 \\n\n",
      "9   Sebastian Vettel                                                 \\n\n",
      "10   Kevin Magnussen                                            133.285\n",
      "11      Lance Stroll                                                  3\n",
      "12   Nicholas Latifi                                                   \n",
      "13  Daniel Ricciardo                                                 25\n",
      "14      Yuki Tsunoda                                                  2\n",
      "15      Esteban Ocon                                                   \n",
      "16      Pierre Gasly                                                 11\n",
      "17   Valtteri Bottas                                           Red Bull\n",
      "18    George Russell                                           Red Bull\n",
      "19       Guanyu Zhou                                                 52\n",
      "20   Alexander Albon  \\n                    2:17'54.090                \n"
     ]
    }
   ],
   "source": [
    "df = pd.DataFrame({'NOmbre':nombres, 'Vueltas': vueltas}, index=list(range(1,21)))\n",
    "print (df)\n",
    "\n",
    "#df.to:csv('Carreras.csv', index=False)"
   ]
  },
  {
   "cell_type": "code",
   "execution_count": null,
   "metadata": {},
   "outputs": [],
   "source": [
    "tiempo = soup.find_all('span', class_ = 'name')\n",
    "#print (Piloto)\n",
    "nombres = list()\n",
    "for i in Piloto:\n",
    "          nombres.append(i.text)\n",
    "print (nombres)"
   ]
  }
 ],
 "metadata": {
  "kernelspec": {
   "display_name": "Python 3.9.13 64-bit (microsoft store)",
   "language": "python",
   "name": "python3"
  },
  "language_info": {
   "codemirror_mode": {
    "name": "ipython",
    "version": 3
   },
   "file_extension": ".py",
   "mimetype": "text/x-python",
   "name": "python",
   "nbconvert_exporter": "python",
   "pygments_lexer": "ipython3",
   "version": "3.9.13"
  },
  "orig_nbformat": 4,
  "vscode": {
   "interpreter": {
    "hash": "2788042604e774a13887fb93638f8eb90673225097f3dc20f490326b20a49a42"
   }
  }
 },
 "nbformat": 4,
 "nbformat_minor": 2
}
