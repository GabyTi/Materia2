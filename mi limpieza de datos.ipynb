{
 "cells": [
  {
   "cell_type": "code",
   "execution_count": 17,
   "metadata": {},
   "outputs": [],
   "source": [
    "import pandas as pd\n",
    "import numpy as np\n",
    "import datetime as dt"
   ]
  },
  {
   "cell_type": "code",
   "execution_count": 18,
   "metadata": {},
   "outputs": [
    {
     "name": "stdout",
     "output_type": "stream",
     "text": [
      "<class 'pandas.core.frame.DataFrame'>\n",
      "RangeIndex: 76 entries, 0 to 75\n",
      "Data columns (total 12 columns):\n",
      " #   Column           Non-Null Count  Dtype \n",
      "---  ------           --------------  ----- \n",
      " 0   ride_id          76 non-null     int64 \n",
      " 1   duration         76 non-null     object\n",
      " 2   station_A_id     76 non-null     int64 \n",
      " 3   station_A_name   76 non-null     object\n",
      " 4   station_B_id     76 non-null     int64 \n",
      " 5   station_B_name   76 non-null     object\n",
      " 6   bike_id          76 non-null     int64 \n",
      " 7   user_type        76 non-null     int64 \n",
      " 8   user_birth_year  76 non-null     int64 \n",
      " 9   user_gender      76 non-null     object\n",
      " 10  tire_sizes       76 non-null     int64 \n",
      " 11  ride_date        76 non-null     object\n",
      "dtypes: int64(7), object(5)\n",
      "memory usage: 7.2+ KB\n"
     ]
    }
   ],
   "source": [
    "df_ride = pd.read_csv(\"C:\\\\Maestria Gaby\\\\Materia1\\\\LimpiezaDatosPython\\\\ride_sharing_new.csv\")\n",
    "#veamos que tiene el dataset\n",
    "df_ride.info()"
   ]
  },
  {
   "cell_type": "code",
   "execution_count": 19,
   "metadata": {},
   "outputs": [
    {
     "data": {
      "text/plain": [
       "count    76.000000\n",
       "mean      1.881579\n",
       "std       0.692187\n",
       "min       1.000000\n",
       "25%       1.000000\n",
       "50%       2.000000\n",
       "75%       2.000000\n",
       "max       3.000000\n",
       "Name: user_type, dtype: float64"
      ]
     },
     "execution_count": 19,
     "metadata": {},
     "output_type": "execute_result"
    }
   ],
   "source": [
    "#utilizamos describe para ver el resumen estadistico de los datos de la columna user_type\n",
    "df_ride['user_type'].describe()"
   ]
  },
  {
   "cell_type": "code",
   "execution_count": 11,
   "metadata": {},
   "outputs": [
    {
     "name": "stdout",
     "output_type": "stream",
     "text": [
      "count     76\n",
      "unique     3\n",
      "top        2\n",
      "freq      39\n",
      "Name: user_type, dtype: int64\n"
     ]
    }
   ],
   "source": [
    "#podemos a cambiar el tipo de dato con astype, y se lo asignamos a la nueva columna\n",
    "df_ride['user_type'] = df_ride['user_type'].astype('category')\n",
    "\n",
    "#Para asegurarnos que la conversion fue correcta utilizamos la declaracion assert\n",
    "assert df_ride['user_type'].dtype == 'category'\n",
    "\n",
    "#y nuevamente observamos las estadisticas resumidas de la nueva columna, y podemos ver que\n",
    "#el resultado cambia al tratarse de una variable categorica\n",
    "print(df_ride['user_type'].describe())"
   ]
  },
  {
   "cell_type": "code",
   "execution_count": 12,
   "metadata": {},
   "outputs": [
    {
     "name": "stdout",
     "output_type": "stream",
     "text": [
      "12.776315789473685\n"
     ]
    }
   ],
   "source": [
    "#eliminamos la cadena minutes con el metodo strip \n",
    "df_ride['duration'] = df_ride['duration'].str.strip('minutes')\n",
    "\n",
    "#convertirmos duration a tipo int \n",
    "df_ride['duration'] = df_ride['duration'].astype('int')\n",
    "\n",
    "#Para asegurarnos que la conversion fue correcta utilizamos la declaracion assert\n",
    "assert df_ride['duration'].dtype == 'int'\n",
    "\n",
    "#Finalmente conocemos cual es la media de la columna duration_time\n",
    "print(df_ride['duration'].mean())"
   ]
  },
  {
   "cell_type": "code",
   "execution_count": 13,
   "metadata": {},
   "outputs": [
    {
     "data": {
      "text/plain": [
       "count     76\n",
       "unique     2\n",
       "top       27\n",
       "freq      73\n",
       "Name: tire_sizes, dtype: int64"
      ]
     },
     "execution_count": 13,
     "metadata": {},
     "output_type": "execute_result"
    }
   ],
   "source": [
    "#usamos loc para seleccionar todo esos registros mayores a 27 establecerle el limite superior que es 27\n",
    "df_ride.loc[df_ride['tire_sizes'] > 27, 'tire_sizes'] = 27\n",
    "df_ride.head(10)\n",
    "\n",
    "#convetirmos a tipo categorico\n",
    "df_ride['tire_sizes'] = df_ride['tire_sizes'].astype('category')\n",
    "\n",
    "df_ride['tire_sizes'].describe()"
   ]
  },
  {
   "cell_type": "code",
   "execution_count": 14,
   "metadata": {},
   "outputs": [
    {
     "name": "stdout",
     "output_type": "stream",
     "text": [
      "2022-04-05\n"
     ]
    },
    {
     "name": "stderr",
     "output_type": "stream",
     "text": [
      "C:\\Users\\Javier\\AppData\\Local\\Temp\\ipykernel_10924\\3937866506.py:3: UserWarning: Parsing '19/01/2020' in DD/MM/YYYY format. Provide format or specify infer_datetime_format=True for consistent parsing.\n",
      "  df_ride['ride_date'] = pd.to_datetime(df_ride['ride_date']).dt.date\n",
      "C:\\Users\\Javier\\AppData\\Local\\Temp\\ipykernel_10924\\3937866506.py:3: UserWarning: Parsing '24/10/2018' in DD/MM/YYYY format. Provide format or specify infer_datetime_format=True for consistent parsing.\n",
      "  df_ride['ride_date'] = pd.to_datetime(df_ride['ride_date']).dt.date\n",
      "C:\\Users\\Javier\\AppData\\Local\\Temp\\ipykernel_10924\\3937866506.py:3: UserWarning: Parsing '21/01/2020' in DD/MM/YYYY format. Provide format or specify infer_datetime_format=True for consistent parsing.\n",
      "  df_ride['ride_date'] = pd.to_datetime(df_ride['ride_date']).dt.date\n",
      "C:\\Users\\Javier\\AppData\\Local\\Temp\\ipykernel_10924\\3937866506.py:3: UserWarning: Parsing '22/01/2020' in DD/MM/YYYY format. Provide format or specify infer_datetime_format=True for consistent parsing.\n",
      "  df_ride['ride_date'] = pd.to_datetime(df_ride['ride_date']).dt.date\n",
      "C:\\Users\\Javier\\AppData\\Local\\Temp\\ipykernel_10924\\3937866506.py:3: UserWarning: Parsing '23/01/2020' in DD/MM/YYYY format. Provide format or specify infer_datetime_format=True for consistent parsing.\n",
      "  df_ride['ride_date'] = pd.to_datetime(df_ride['ride_date']).dt.date\n",
      "C:\\Users\\Javier\\AppData\\Local\\Temp\\ipykernel_10924\\3937866506.py:3: UserWarning: Parsing '15/03/2019' in DD/MM/YYYY format. Provide format or specify infer_datetime_format=True for consistent parsing.\n",
      "  df_ride['ride_date'] = pd.to_datetime(df_ride['ride_date']).dt.date\n",
      "C:\\Users\\Javier\\AppData\\Local\\Temp\\ipykernel_10924\\3937866506.py:3: UserWarning: Parsing '16/03/2019' in DD/MM/YYYY format. Provide format or specify infer_datetime_format=True for consistent parsing.\n",
      "  df_ride['ride_date'] = pd.to_datetime(df_ride['ride_date']).dt.date\n",
      "C:\\Users\\Javier\\AppData\\Local\\Temp\\ipykernel_10924\\3937866506.py:3: UserWarning: Parsing '17/03/2019' in DD/MM/YYYY format. Provide format or specify infer_datetime_format=True for consistent parsing.\n",
      "  df_ride['ride_date'] = pd.to_datetime(df_ride['ride_date']).dt.date\n",
      "C:\\Users\\Javier\\AppData\\Local\\Temp\\ipykernel_10924\\3937866506.py:3: UserWarning: Parsing '18/03/2019' in DD/MM/YYYY format. Provide format or specify infer_datetime_format=True for consistent parsing.\n",
      "  df_ride['ride_date'] = pd.to_datetime(df_ride['ride_date']).dt.date\n",
      "C:\\Users\\Javier\\AppData\\Local\\Temp\\ipykernel_10924\\3937866506.py:3: UserWarning: Parsing '19/03/2019' in DD/MM/YYYY format. Provide format or specify infer_datetime_format=True for consistent parsing.\n",
      "  df_ride['ride_date'] = pd.to_datetime(df_ride['ride_date']).dt.date\n",
      "C:\\Users\\Javier\\AppData\\Local\\Temp\\ipykernel_10924\\3937866506.py:3: UserWarning: Parsing '20/03/2019' in DD/MM/YYYY format. Provide format or specify infer_datetime_format=True for consistent parsing.\n",
      "  df_ride['ride_date'] = pd.to_datetime(df_ride['ride_date']).dt.date\n",
      "C:\\Users\\Javier\\AppData\\Local\\Temp\\ipykernel_10924\\3937866506.py:3: UserWarning: Parsing '21/03/2019' in DD/MM/YYYY format. Provide format or specify infer_datetime_format=True for consistent parsing.\n",
      "  df_ride['ride_date'] = pd.to_datetime(df_ride['ride_date']).dt.date\n",
      "C:\\Users\\Javier\\AppData\\Local\\Temp\\ipykernel_10924\\3937866506.py:3: UserWarning: Parsing '22/03/2019' in DD/MM/YYYY format. Provide format or specify infer_datetime_format=True for consistent parsing.\n",
      "  df_ride['ride_date'] = pd.to_datetime(df_ride['ride_date']).dt.date\n",
      "C:\\Users\\Javier\\AppData\\Local\\Temp\\ipykernel_10924\\3937866506.py:3: UserWarning: Parsing '23/03/2019' in DD/MM/YYYY format. Provide format or specify infer_datetime_format=True for consistent parsing.\n",
      "  df_ride['ride_date'] = pd.to_datetime(df_ride['ride_date']).dt.date\n",
      "C:\\Users\\Javier\\AppData\\Local\\Temp\\ipykernel_10924\\3937866506.py:3: UserWarning: Parsing '24/03/2019' in DD/MM/YYYY format. Provide format or specify infer_datetime_format=True for consistent parsing.\n",
      "  df_ride['ride_date'] = pd.to_datetime(df_ride['ride_date']).dt.date\n",
      "C:\\Users\\Javier\\AppData\\Local\\Temp\\ipykernel_10924\\3937866506.py:3: UserWarning: Parsing '25/03/2019' in DD/MM/YYYY format. Provide format or specify infer_datetime_format=True for consistent parsing.\n",
      "  df_ride['ride_date'] = pd.to_datetime(df_ride['ride_date']).dt.date\n",
      "C:\\Users\\Javier\\AppData\\Local\\Temp\\ipykernel_10924\\3937866506.py:3: UserWarning: Parsing '26/03/2019' in DD/MM/YYYY format. Provide format or specify infer_datetime_format=True for consistent parsing.\n",
      "  df_ride['ride_date'] = pd.to_datetime(df_ride['ride_date']).dt.date\n",
      "C:\\Users\\Javier\\AppData\\Local\\Temp\\ipykernel_10924\\3937866506.py:3: UserWarning: Parsing '27/03/2019' in DD/MM/YYYY format. Provide format or specify infer_datetime_format=True for consistent parsing.\n",
      "  df_ride['ride_date'] = pd.to_datetime(df_ride['ride_date']).dt.date\n",
      "C:\\Users\\Javier\\AppData\\Local\\Temp\\ipykernel_10924\\3937866506.py:3: UserWarning: Parsing '15/06/2018' in DD/MM/YYYY format. Provide format or specify infer_datetime_format=True for consistent parsing.\n",
      "  df_ride['ride_date'] = pd.to_datetime(df_ride['ride_date']).dt.date\n",
      "C:\\Users\\Javier\\AppData\\Local\\Temp\\ipykernel_10924\\3937866506.py:3: UserWarning: Parsing '16/06/2018' in DD/MM/YYYY format. Provide format or specify infer_datetime_format=True for consistent parsing.\n",
      "  df_ride['ride_date'] = pd.to_datetime(df_ride['ride_date']).dt.date\n",
      "C:\\Users\\Javier\\AppData\\Local\\Temp\\ipykernel_10924\\3937866506.py:3: UserWarning: Parsing '17/06/2018' in DD/MM/YYYY format. Provide format or specify infer_datetime_format=True for consistent parsing.\n",
      "  df_ride['ride_date'] = pd.to_datetime(df_ride['ride_date']).dt.date\n",
      "C:\\Users\\Javier\\AppData\\Local\\Temp\\ipykernel_10924\\3937866506.py:3: UserWarning: Parsing '18/06/2018' in DD/MM/YYYY format. Provide format or specify infer_datetime_format=True for consistent parsing.\n",
      "  df_ride['ride_date'] = pd.to_datetime(df_ride['ride_date']).dt.date\n",
      "C:\\Users\\Javier\\AppData\\Local\\Temp\\ipykernel_10924\\3937866506.py:3: UserWarning: Parsing '19/06/2018' in DD/MM/YYYY format. Provide format or specify infer_datetime_format=True for consistent parsing.\n",
      "  df_ride['ride_date'] = pd.to_datetime(df_ride['ride_date']).dt.date\n",
      "C:\\Users\\Javier\\AppData\\Local\\Temp\\ipykernel_10924\\3937866506.py:3: UserWarning: Parsing '20/06/2018' in DD/MM/YYYY format. Provide format or specify infer_datetime_format=True for consistent parsing.\n",
      "  df_ride['ride_date'] = pd.to_datetime(df_ride['ride_date']).dt.date\n",
      "C:\\Users\\Javier\\AppData\\Local\\Temp\\ipykernel_10924\\3937866506.py:3: UserWarning: Parsing '21/06/2018' in DD/MM/YYYY format. Provide format or specify infer_datetime_format=True for consistent parsing.\n",
      "  df_ride['ride_date'] = pd.to_datetime(df_ride['ride_date']).dt.date\n",
      "C:\\Users\\Javier\\AppData\\Local\\Temp\\ipykernel_10924\\3937866506.py:3: UserWarning: Parsing '22/06/2018' in DD/MM/YYYY format. Provide format or specify infer_datetime_format=True for consistent parsing.\n",
      "  df_ride['ride_date'] = pd.to_datetime(df_ride['ride_date']).dt.date\n",
      "C:\\Users\\Javier\\AppData\\Local\\Temp\\ipykernel_10924\\3937866506.py:3: UserWarning: Parsing '23/06/2018' in DD/MM/YYYY format. Provide format or specify infer_datetime_format=True for consistent parsing.\n",
      "  df_ride['ride_date'] = pd.to_datetime(df_ride['ride_date']).dt.date\n",
      "C:\\Users\\Javier\\AppData\\Local\\Temp\\ipykernel_10924\\3937866506.py:3: UserWarning: Parsing '24/06/2018' in DD/MM/YYYY format. Provide format or specify infer_datetime_format=True for consistent parsing.\n",
      "  df_ride['ride_date'] = pd.to_datetime(df_ride['ride_date']).dt.date\n",
      "C:\\Users\\Javier\\AppData\\Local\\Temp\\ipykernel_10924\\3937866506.py:3: UserWarning: Parsing '25/06/2018' in DD/MM/YYYY format. Provide format or specify infer_datetime_format=True for consistent parsing.\n",
      "  df_ride['ride_date'] = pd.to_datetime(df_ride['ride_date']).dt.date\n",
      "C:\\Users\\Javier\\AppData\\Local\\Temp\\ipykernel_10924\\3937866506.py:3: UserWarning: Parsing '26/06/2018' in DD/MM/YYYY format. Provide format or specify infer_datetime_format=True for consistent parsing.\n",
      "  df_ride['ride_date'] = pd.to_datetime(df_ride['ride_date']).dt.date\n",
      "C:\\Users\\Javier\\AppData\\Local\\Temp\\ipykernel_10924\\3937866506.py:3: UserWarning: Parsing '27/06/2018' in DD/MM/YYYY format. Provide format or specify infer_datetime_format=True for consistent parsing.\n",
      "  df_ride['ride_date'] = pd.to_datetime(df_ride['ride_date']).dt.date\n",
      "C:\\Users\\Javier\\AppData\\Local\\Temp\\ipykernel_10924\\3937866506.py:3: UserWarning: Parsing '28/06/2018' in DD/MM/YYYY format. Provide format or specify infer_datetime_format=True for consistent parsing.\n",
      "  df_ride['ride_date'] = pd.to_datetime(df_ride['ride_date']).dt.date\n",
      "C:\\Users\\Javier\\AppData\\Local\\Temp\\ipykernel_10924\\3937866506.py:3: UserWarning: Parsing '29/06/2018' in DD/MM/YYYY format. Provide format or specify infer_datetime_format=True for consistent parsing.\n",
      "  df_ride['ride_date'] = pd.to_datetime(df_ride['ride_date']).dt.date\n",
      "C:\\Users\\Javier\\AppData\\Local\\Temp\\ipykernel_10924\\3937866506.py:3: UserWarning: Parsing '30/06/2018' in DD/MM/YYYY format. Provide format or specify infer_datetime_format=True for consistent parsing.\n",
      "  df_ride['ride_date'] = pd.to_datetime(df_ride['ride_date']).dt.date\n",
      "C:\\Users\\Javier\\AppData\\Local\\Temp\\ipykernel_10924\\3937866506.py:3: UserWarning: Parsing '13/07/2018' in DD/MM/YYYY format. Provide format or specify infer_datetime_format=True for consistent parsing.\n",
      "  df_ride['ride_date'] = pd.to_datetime(df_ride['ride_date']).dt.date\n",
      "C:\\Users\\Javier\\AppData\\Local\\Temp\\ipykernel_10924\\3937866506.py:3: UserWarning: Parsing '14/07/2018' in DD/MM/YYYY format. Provide format or specify infer_datetime_format=True for consistent parsing.\n",
      "  df_ride['ride_date'] = pd.to_datetime(df_ride['ride_date']).dt.date\n",
      "C:\\Users\\Javier\\AppData\\Local\\Temp\\ipykernel_10924\\3937866506.py:3: UserWarning: Parsing '15/07/2018' in DD/MM/YYYY format. Provide format or specify infer_datetime_format=True for consistent parsing.\n",
      "  df_ride['ride_date'] = pd.to_datetime(df_ride['ride_date']).dt.date\n",
      "C:\\Users\\Javier\\AppData\\Local\\Temp\\ipykernel_10924\\3937866506.py:3: UserWarning: Parsing '16/07/2018' in DD/MM/YYYY format. Provide format or specify infer_datetime_format=True for consistent parsing.\n",
      "  df_ride['ride_date'] = pd.to_datetime(df_ride['ride_date']).dt.date\n",
      "C:\\Users\\Javier\\AppData\\Local\\Temp\\ipykernel_10924\\3937866506.py:3: UserWarning: Parsing '17/07/2018' in DD/MM/YYYY format. Provide format or specify infer_datetime_format=True for consistent parsing.\n",
      "  df_ride['ride_date'] = pd.to_datetime(df_ride['ride_date']).dt.date\n",
      "C:\\Users\\Javier\\AppData\\Local\\Temp\\ipykernel_10924\\3937866506.py:3: UserWarning: Parsing '18/07/2018' in DD/MM/YYYY format. Provide format or specify infer_datetime_format=True for consistent parsing.\n",
      "  df_ride['ride_date'] = pd.to_datetime(df_ride['ride_date']).dt.date\n",
      "C:\\Users\\Javier\\AppData\\Local\\Temp\\ipykernel_10924\\3937866506.py:3: UserWarning: Parsing '19/07/2018' in DD/MM/YYYY format. Provide format or specify infer_datetime_format=True for consistent parsing.\n",
      "  df_ride['ride_date'] = pd.to_datetime(df_ride['ride_date']).dt.date\n",
      "C:\\Users\\Javier\\AppData\\Local\\Temp\\ipykernel_10924\\3937866506.py:3: UserWarning: Parsing '20/07/2018' in DD/MM/YYYY format. Provide format or specify infer_datetime_format=True for consistent parsing.\n",
      "  df_ride['ride_date'] = pd.to_datetime(df_ride['ride_date']).dt.date\n",
      "C:\\Users\\Javier\\AppData\\Local\\Temp\\ipykernel_10924\\3937866506.py:3: UserWarning: Parsing '21/07/2018' in DD/MM/YYYY format. Provide format or specify infer_datetime_format=True for consistent parsing.\n",
      "  df_ride['ride_date'] = pd.to_datetime(df_ride['ride_date']).dt.date\n",
      "C:\\Users\\Javier\\AppData\\Local\\Temp\\ipykernel_10924\\3937866506.py:3: UserWarning: Parsing '22/07/2018' in DD/MM/YYYY format. Provide format or specify infer_datetime_format=True for consistent parsing.\n",
      "  df_ride['ride_date'] = pd.to_datetime(df_ride['ride_date']).dt.date\n",
      "C:\\Users\\Javier\\AppData\\Local\\Temp\\ipykernel_10924\\3937866506.py:3: UserWarning: Parsing '23/07/2018' in DD/MM/YYYY format. Provide format or specify infer_datetime_format=True for consistent parsing.\n",
      "  df_ride['ride_date'] = pd.to_datetime(df_ride['ride_date']).dt.date\n",
      "C:\\Users\\Javier\\AppData\\Local\\Temp\\ipykernel_10924\\3937866506.py:3: UserWarning: Parsing '24/07/2018' in DD/MM/YYYY format. Provide format or specify infer_datetime_format=True for consistent parsing.\n",
      "  df_ride['ride_date'] = pd.to_datetime(df_ride['ride_date']).dt.date\n",
      "C:\\Users\\Javier\\AppData\\Local\\Temp\\ipykernel_10924\\3937866506.py:3: UserWarning: Parsing '25/07/2018' in DD/MM/YYYY format. Provide format or specify infer_datetime_format=True for consistent parsing.\n",
      "  df_ride['ride_date'] = pd.to_datetime(df_ride['ride_date']).dt.date\n",
      "C:\\Users\\Javier\\AppData\\Local\\Temp\\ipykernel_10924\\3937866506.py:3: UserWarning: Parsing '26/07/2018' in DD/MM/YYYY format. Provide format or specify infer_datetime_format=True for consistent parsing.\n",
      "  df_ride['ride_date'] = pd.to_datetime(df_ride['ride_date']).dt.date\n",
      "C:\\Users\\Javier\\AppData\\Local\\Temp\\ipykernel_10924\\3937866506.py:3: UserWarning: Parsing '27/07/2018' in DD/MM/YYYY format. Provide format or specify infer_datetime_format=True for consistent parsing.\n",
      "  df_ride['ride_date'] = pd.to_datetime(df_ride['ride_date']).dt.date\n",
      "C:\\Users\\Javier\\AppData\\Local\\Temp\\ipykernel_10924\\3937866506.py:3: UserWarning: Parsing '28/07/2018' in DD/MM/YYYY format. Provide format or specify infer_datetime_format=True for consistent parsing.\n",
      "  df_ride['ride_date'] = pd.to_datetime(df_ride['ride_date']).dt.date\n",
      "C:\\Users\\Javier\\AppData\\Local\\Temp\\ipykernel_10924\\3937866506.py:3: UserWarning: Parsing '29/07/2018' in DD/MM/YYYY format. Provide format or specify infer_datetime_format=True for consistent parsing.\n",
      "  df_ride['ride_date'] = pd.to_datetime(df_ride['ride_date']).dt.date\n",
      "C:\\Users\\Javier\\AppData\\Local\\Temp\\ipykernel_10924\\3937866506.py:3: UserWarning: Parsing '30/07/2018' in DD/MM/YYYY format. Provide format or specify infer_datetime_format=True for consistent parsing.\n",
      "  df_ride['ride_date'] = pd.to_datetime(df_ride['ride_date']).dt.date\n",
      "C:\\Users\\Javier\\AppData\\Local\\Temp\\ipykernel_10924\\3937866506.py:3: UserWarning: Parsing '31/07/2018' in DD/MM/YYYY format. Provide format or specify infer_datetime_format=True for consistent parsing.\n",
      "  df_ride['ride_date'] = pd.to_datetime(df_ride['ride_date']).dt.date\n"
     ]
    }
   ],
   "source": [
    "#convertimos a ride_date en tipo de dato datetime\n",
    "infer_datetime_format=True\n",
    "df_ride['ride_date'] = pd.to_datetime(df_ride['ride_date']).dt.date\n",
    "\n",
    "#almacenamos la fecha de hoy\n",
    "today = dt.date.today()\n",
    "\n",
    "# y por ultimo le aplicamos la fecha de hoy almacenada en today a aquellos registros con\n",
    "#fechas futuras, es decir con fechas superiores a hoy\n",
    "df_ride.loc[df_ride['ride_date'] > today, 'ride_date'] = today\n",
    "\n",
    "#mostramos la fecha maxima\n",
    "print(df_ride['ride_date'].max())"
   ]
  },
  {
   "cell_type": "code",
   "execution_count": 15,
   "metadata": {},
   "outputs": [
    {
     "name": "stdout",
     "output_type": "stream",
     "text": [
      "    ride_id  duration  user_birth_year\n",
      "21       33        11             1986\n",
      "38       33         6             1966\n",
      "52       55        13             1999\n",
      "64       55        10             1999\n",
      "72       71        11             1987\n",
      "73       71        11             1987\n",
      "74       89         9             1990\n",
      "75       89         9             1990\n"
     ]
    }
   ],
   "source": [
    "# Aqui buscamos duplicados \n",
    "duplicates = df_ride.duplicated('ride_id', keep = False)\n",
    "\n",
    "# ordenamos por la columna ride_id los registros duplicados obtenidos\n",
    "df_ride = df_ride[duplicates].sort_values( by = 'ride_id')\n",
    "\n",
    "# y por ultimo imprimimos los datos duplicados, mostramos \n",
    "#en cuales columnas estaban estos registros\n",
    "print(df_ride[['ride_id','duration','user_birth_year']])"
   ]
  },
  {
   "cell_type": "code",
   "execution_count": 16,
   "metadata": {},
   "outputs": [],
   "source": [
    "# Eliminamos los duplicados completos en ride_sharing\n",
    "ride_dup = df_ride.drop_duplicates()\n",
    "\n",
    "# Creamos un diccionario de estadisticas para funciones de agregacion\n",
    "statistics = {'user_birth_year': 'min', 'duration': 'mean'}\n",
    "\n",
    "# Agrupamos por ride_id y calculamos las nuevas estadisticas\n",
    "ride_unique = ride_dup.groupby('ride_id').agg(statistics).reset_index()\n",
    "\n",
    "# nuevamente buscamos valores duplicados\n",
    "duplicates = ride_unique.duplicated(subset = 'ride_id', keep = False)\n",
    "duplicated_rides = ride_unique[duplicates == True]\n",
    "\n",
    "# y por ultimo nos aseguramos que se haya aplicado todo correctamente\n",
    "assert duplicated_rides.shape[0] == 0"
   ]
  }
 ],
 "metadata": {
  "kernelspec": {
   "display_name": "Python 3.9.13 64-bit (microsoft store)",
   "language": "python",
   "name": "python3"
  },
  "language_info": {
   "codemirror_mode": {
    "name": "ipython",
    "version": 3
   },
   "file_extension": ".py",
   "mimetype": "text/x-python",
   "name": "python",
   "nbconvert_exporter": "python",
   "pygments_lexer": "ipython3",
   "version": "3.9.13"
  },
  "orig_nbformat": 4,
  "vscode": {
   "interpreter": {
    "hash": "2788042604e774a13887fb93638f8eb90673225097f3dc20f490326b20a49a42"
   }
  }
 },
 "nbformat": 4,
 "nbformat_minor": 2
}
